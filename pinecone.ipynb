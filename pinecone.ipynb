{
  "cells": [
    {
      "cell_type": "code",
      "source": [
        "# requirements.txt içeriğini oluşturma\n",
        "requirements = \"\"\"\n",
        "langchain-openai\n",
        "langchain-pinecone\n",
        "langchain-community\n",
        "langchain-text-splitters\n",
        "\"\"\"\n",
        "\n",
        "# requirements.txt dosyasını kaydetme\n",
        "with open('requirements.txt', 'w') as f:\n",
        "    f.write(requirements)\n"
      ],
      "metadata": {
        "id": "R6uycDye9YZm"
      },
      "execution_count": 113,
      "outputs": []
    },
    {
      "cell_type": "code",
      "source": [
        "pip install python-docx\n"
      ],
      "metadata": {
        "colab": {
          "base_uri": "https://localhost:8080/"
        },
        "id": "iF7q6bJ2wL8T",
        "outputId": "35fad18f-a49b-4afe-f201-d0efdfef8a09"
      },
      "execution_count": 114,
      "outputs": [
        {
          "output_type": "stream",
          "name": "stdout",
          "text": [
            "Requirement already satisfied: python-docx in /usr/local/lib/python3.10/dist-packages (1.1.2)\n",
            "Requirement already satisfied: lxml>=3.1.0 in /usr/local/lib/python3.10/dist-packages (from python-docx) (5.3.0)\n",
            "Requirement already satisfied: typing-extensions>=4.9.0 in /usr/local/lib/python3.10/dist-packages (from python-docx) (4.12.2)\n"
          ]
        }
      ]
    },
    {
      "cell_type": "code",
      "source": [
        "!pip install unstructured\n"
      ],
      "metadata": {
        "colab": {
          "base_uri": "https://localhost:8080/"
        },
        "collapsed": true,
        "id": "GlcRxxsrG0SL",
        "outputId": "b35b1fdf-ac69-4977-e346-15dbc2069fc1"
      },
      "execution_count": 115,
      "outputs": [
        {
          "output_type": "stream",
          "name": "stdout",
          "text": [
            "Requirement already satisfied: unstructured in /usr/local/lib/python3.10/dist-packages (0.16.5)\n",
            "Requirement already satisfied: chardet in /usr/local/lib/python3.10/dist-packages (from unstructured) (5.2.0)\n",
            "Requirement already satisfied: filetype in /usr/local/lib/python3.10/dist-packages (from unstructured) (1.2.0)\n",
            "Requirement already satisfied: python-magic in /usr/local/lib/python3.10/dist-packages (from unstructured) (0.4.27)\n",
            "Requirement already satisfied: lxml in /usr/local/lib/python3.10/dist-packages (from unstructured) (5.3.0)\n",
            "Requirement already satisfied: nltk in /usr/local/lib/python3.10/dist-packages (from unstructured) (3.9.1)\n",
            "Requirement already satisfied: requests in /usr/local/lib/python3.10/dist-packages (from unstructured) (2.32.3)\n",
            "Requirement already satisfied: beautifulsoup4 in /usr/local/lib/python3.10/dist-packages (from unstructured) (4.12.3)\n",
            "Requirement already satisfied: emoji in /usr/local/lib/python3.10/dist-packages (from unstructured) (2.14.0)\n",
            "Requirement already satisfied: dataclasses-json in /usr/local/lib/python3.10/dist-packages (from unstructured) (0.6.7)\n",
            "Requirement already satisfied: python-iso639 in /usr/local/lib/python3.10/dist-packages (from unstructured) (2024.10.22)\n",
            "Requirement already satisfied: langdetect in /usr/local/lib/python3.10/dist-packages (from unstructured) (1.0.9)\n",
            "Requirement already satisfied: numpy<2 in /usr/local/lib/python3.10/dist-packages (from unstructured) (1.26.4)\n",
            "Requirement already satisfied: rapidfuzz in /usr/local/lib/python3.10/dist-packages (from unstructured) (3.10.1)\n",
            "Requirement already satisfied: backoff in /usr/local/lib/python3.10/dist-packages (from unstructured) (2.2.1)\n",
            "Requirement already satisfied: typing-extensions in /usr/local/lib/python3.10/dist-packages (from unstructured) (4.12.2)\n",
            "Requirement already satisfied: unstructured-client in /usr/local/lib/python3.10/dist-packages (from unstructured) (0.28.0)\n",
            "Requirement already satisfied: wrapt in /usr/local/lib/python3.10/dist-packages (from unstructured) (1.16.0)\n",
            "Requirement already satisfied: tqdm in /usr/local/lib/python3.10/dist-packages (from unstructured) (4.66.6)\n",
            "Requirement already satisfied: psutil in /usr/local/lib/python3.10/dist-packages (from unstructured) (5.9.5)\n",
            "Requirement already satisfied: python-oxmsg in /usr/local/lib/python3.10/dist-packages (from unstructured) (0.0.1)\n",
            "Requirement already satisfied: html5lib in /usr/local/lib/python3.10/dist-packages (from unstructured) (1.1)\n",
            "Requirement already satisfied: soupsieve>1.2 in /usr/local/lib/python3.10/dist-packages (from beautifulsoup4->unstructured) (2.6)\n",
            "Requirement already satisfied: marshmallow<4.0.0,>=3.18.0 in /usr/local/lib/python3.10/dist-packages (from dataclasses-json->unstructured) (3.23.1)\n",
            "Requirement already satisfied: typing-inspect<1,>=0.4.0 in /usr/local/lib/python3.10/dist-packages (from dataclasses-json->unstructured) (0.9.0)\n",
            "Requirement already satisfied: six>=1.9 in /usr/local/lib/python3.10/dist-packages (from html5lib->unstructured) (1.16.0)\n",
            "Requirement already satisfied: webencodings in /usr/local/lib/python3.10/dist-packages (from html5lib->unstructured) (0.5.1)\n",
            "Requirement already satisfied: click in /usr/local/lib/python3.10/dist-packages (from nltk->unstructured) (8.1.7)\n",
            "Requirement already satisfied: joblib in /usr/local/lib/python3.10/dist-packages (from nltk->unstructured) (1.4.2)\n",
            "Requirement already satisfied: regex>=2021.8.3 in /usr/local/lib/python3.10/dist-packages (from nltk->unstructured) (2024.9.11)\n",
            "Requirement already satisfied: olefile in /usr/local/lib/python3.10/dist-packages (from python-oxmsg->unstructured) (0.47)\n",
            "Requirement already satisfied: charset-normalizer<4,>=2 in /usr/local/lib/python3.10/dist-packages (from requests->unstructured) (3.4.0)\n",
            "Requirement already satisfied: idna<4,>=2.5 in /usr/local/lib/python3.10/dist-packages (from requests->unstructured) (3.10)\n",
            "Requirement already satisfied: urllib3<3,>=1.21.1 in /usr/local/lib/python3.10/dist-packages (from requests->unstructured) (2.2.3)\n",
            "Requirement already satisfied: certifi>=2017.4.17 in /usr/local/lib/python3.10/dist-packages (from requests->unstructured) (2024.8.30)\n",
            "Requirement already satisfied: aiofiles>=24.1.0 in /usr/local/lib/python3.10/dist-packages (from unstructured-client->unstructured) (24.1.0)\n",
            "Requirement already satisfied: cryptography>=3.1 in /usr/local/lib/python3.10/dist-packages (from unstructured-client->unstructured) (43.0.3)\n",
            "Requirement already satisfied: eval-type-backport<0.3.0,>=0.2.0 in /usr/local/lib/python3.10/dist-packages (from unstructured-client->unstructured) (0.2.0)\n",
            "Requirement already satisfied: httpx>=0.27.0 in /usr/local/lib/python3.10/dist-packages (from unstructured-client->unstructured) (0.27.2)\n",
            "Requirement already satisfied: jsonpath-python<2.0.0,>=1.0.6 in /usr/local/lib/python3.10/dist-packages (from unstructured-client->unstructured) (1.0.6)\n",
            "Requirement already satisfied: nest-asyncio>=1.6.0 in /usr/local/lib/python3.10/dist-packages (from unstructured-client->unstructured) (1.6.0)\n",
            "Requirement already satisfied: pydantic<2.10.0,>=2.9.2 in /usr/local/lib/python3.10/dist-packages (from unstructured-client->unstructured) (2.9.2)\n",
            "Requirement already satisfied: pypdf>=4.0 in /usr/local/lib/python3.10/dist-packages (from unstructured-client->unstructured) (5.1.0)\n",
            "Requirement already satisfied: python-dateutil==2.8.2 in /usr/local/lib/python3.10/dist-packages (from unstructured-client->unstructured) (2.8.2)\n",
            "Requirement already satisfied: requests-toolbelt>=1.0.0 in /usr/local/lib/python3.10/dist-packages (from unstructured-client->unstructured) (1.0.0)\n",
            "Requirement already satisfied: cffi>=1.12 in /usr/local/lib/python3.10/dist-packages (from cryptography>=3.1->unstructured-client->unstructured) (1.17.1)\n",
            "Requirement already satisfied: anyio in /usr/local/lib/python3.10/dist-packages (from httpx>=0.27.0->unstructured-client->unstructured) (3.7.1)\n",
            "Requirement already satisfied: httpcore==1.* in /usr/local/lib/python3.10/dist-packages (from httpx>=0.27.0->unstructured-client->unstructured) (1.0.7)\n",
            "Requirement already satisfied: sniffio in /usr/local/lib/python3.10/dist-packages (from httpx>=0.27.0->unstructured-client->unstructured) (1.3.1)\n",
            "Requirement already satisfied: h11<0.15,>=0.13 in /usr/local/lib/python3.10/dist-packages (from httpcore==1.*->httpx>=0.27.0->unstructured-client->unstructured) (0.14.0)\n",
            "Requirement already satisfied: packaging>=17.0 in /usr/local/lib/python3.10/dist-packages (from marshmallow<4.0.0,>=3.18.0->dataclasses-json->unstructured) (24.2)\n",
            "Requirement already satisfied: annotated-types>=0.6.0 in /usr/local/lib/python3.10/dist-packages (from pydantic<2.10.0,>=2.9.2->unstructured-client->unstructured) (0.7.0)\n",
            "Requirement already satisfied: pydantic-core==2.23.4 in /usr/local/lib/python3.10/dist-packages (from pydantic<2.10.0,>=2.9.2->unstructured-client->unstructured) (2.23.4)\n",
            "Requirement already satisfied: mypy-extensions>=0.3.0 in /usr/local/lib/python3.10/dist-packages (from typing-inspect<1,>=0.4.0->dataclasses-json->unstructured) (1.0.0)\n",
            "Requirement already satisfied: pycparser in /usr/local/lib/python3.10/dist-packages (from cffi>=1.12->cryptography>=3.1->unstructured-client->unstructured) (2.22)\n",
            "Requirement already satisfied: exceptiongroup in /usr/local/lib/python3.10/dist-packages (from anyio->httpx>=0.27.0->unstructured-client->unstructured) (1.2.2)\n"
          ]
        }
      ]
    },
    {
      "cell_type": "code",
      "source": [
        "!pip install \"unstructured[docx]\"\n"
      ],
      "metadata": {
        "colab": {
          "base_uri": "https://localhost:8080/"
        },
        "collapsed": true,
        "id": "z6P9Pkg9HlhD",
        "outputId": "f9130842-8f72-4d2c-fc96-425ae00ab968"
      },
      "execution_count": 116,
      "outputs": [
        {
          "output_type": "stream",
          "name": "stdout",
          "text": [
            "Requirement already satisfied: unstructured[docx] in /usr/local/lib/python3.10/dist-packages (0.16.5)\n",
            "Requirement already satisfied: chardet in /usr/local/lib/python3.10/dist-packages (from unstructured[docx]) (5.2.0)\n",
            "Requirement already satisfied: filetype in /usr/local/lib/python3.10/dist-packages (from unstructured[docx]) (1.2.0)\n",
            "Requirement already satisfied: python-magic in /usr/local/lib/python3.10/dist-packages (from unstructured[docx]) (0.4.27)\n",
            "Requirement already satisfied: lxml in /usr/local/lib/python3.10/dist-packages (from unstructured[docx]) (5.3.0)\n",
            "Requirement already satisfied: nltk in /usr/local/lib/python3.10/dist-packages (from unstructured[docx]) (3.9.1)\n",
            "Requirement already satisfied: requests in /usr/local/lib/python3.10/dist-packages (from unstructured[docx]) (2.32.3)\n",
            "Requirement already satisfied: beautifulsoup4 in /usr/local/lib/python3.10/dist-packages (from unstructured[docx]) (4.12.3)\n",
            "Requirement already satisfied: emoji in /usr/local/lib/python3.10/dist-packages (from unstructured[docx]) (2.14.0)\n",
            "Requirement already satisfied: dataclasses-json in /usr/local/lib/python3.10/dist-packages (from unstructured[docx]) (0.6.7)\n",
            "Requirement already satisfied: python-iso639 in /usr/local/lib/python3.10/dist-packages (from unstructured[docx]) (2024.10.22)\n",
            "Requirement already satisfied: langdetect in /usr/local/lib/python3.10/dist-packages (from unstructured[docx]) (1.0.9)\n",
            "Requirement already satisfied: numpy<2 in /usr/local/lib/python3.10/dist-packages (from unstructured[docx]) (1.26.4)\n",
            "Requirement already satisfied: rapidfuzz in /usr/local/lib/python3.10/dist-packages (from unstructured[docx]) (3.10.1)\n",
            "Requirement already satisfied: backoff in /usr/local/lib/python3.10/dist-packages (from unstructured[docx]) (2.2.1)\n",
            "Requirement already satisfied: typing-extensions in /usr/local/lib/python3.10/dist-packages (from unstructured[docx]) (4.12.2)\n",
            "Requirement already satisfied: unstructured-client in /usr/local/lib/python3.10/dist-packages (from unstructured[docx]) (0.28.0)\n",
            "Requirement already satisfied: wrapt in /usr/local/lib/python3.10/dist-packages (from unstructured[docx]) (1.16.0)\n",
            "Requirement already satisfied: tqdm in /usr/local/lib/python3.10/dist-packages (from unstructured[docx]) (4.66.6)\n",
            "Requirement already satisfied: psutil in /usr/local/lib/python3.10/dist-packages (from unstructured[docx]) (5.9.5)\n",
            "Requirement already satisfied: python-oxmsg in /usr/local/lib/python3.10/dist-packages (from unstructured[docx]) (0.0.1)\n",
            "Requirement already satisfied: html5lib in /usr/local/lib/python3.10/dist-packages (from unstructured[docx]) (1.1)\n",
            "Requirement already satisfied: python-docx>=1.1.2 in /usr/local/lib/python3.10/dist-packages (from unstructured[docx]) (1.1.2)\n",
            "Requirement already satisfied: soupsieve>1.2 in /usr/local/lib/python3.10/dist-packages (from beautifulsoup4->unstructured[docx]) (2.6)\n",
            "Requirement already satisfied: marshmallow<4.0.0,>=3.18.0 in /usr/local/lib/python3.10/dist-packages (from dataclasses-json->unstructured[docx]) (3.23.1)\n",
            "Requirement already satisfied: typing-inspect<1,>=0.4.0 in /usr/local/lib/python3.10/dist-packages (from dataclasses-json->unstructured[docx]) (0.9.0)\n",
            "Requirement already satisfied: six>=1.9 in /usr/local/lib/python3.10/dist-packages (from html5lib->unstructured[docx]) (1.16.0)\n",
            "Requirement already satisfied: webencodings in /usr/local/lib/python3.10/dist-packages (from html5lib->unstructured[docx]) (0.5.1)\n",
            "Requirement already satisfied: click in /usr/local/lib/python3.10/dist-packages (from nltk->unstructured[docx]) (8.1.7)\n",
            "Requirement already satisfied: joblib in /usr/local/lib/python3.10/dist-packages (from nltk->unstructured[docx]) (1.4.2)\n",
            "Requirement already satisfied: regex>=2021.8.3 in /usr/local/lib/python3.10/dist-packages (from nltk->unstructured[docx]) (2024.9.11)\n",
            "Requirement already satisfied: olefile in /usr/local/lib/python3.10/dist-packages (from python-oxmsg->unstructured[docx]) (0.47)\n",
            "Requirement already satisfied: charset-normalizer<4,>=2 in /usr/local/lib/python3.10/dist-packages (from requests->unstructured[docx]) (3.4.0)\n",
            "Requirement already satisfied: idna<4,>=2.5 in /usr/local/lib/python3.10/dist-packages (from requests->unstructured[docx]) (3.10)\n",
            "Requirement already satisfied: urllib3<3,>=1.21.1 in /usr/local/lib/python3.10/dist-packages (from requests->unstructured[docx]) (2.2.3)\n",
            "Requirement already satisfied: certifi>=2017.4.17 in /usr/local/lib/python3.10/dist-packages (from requests->unstructured[docx]) (2024.8.30)\n",
            "Requirement already satisfied: aiofiles>=24.1.0 in /usr/local/lib/python3.10/dist-packages (from unstructured-client->unstructured[docx]) (24.1.0)\n",
            "Requirement already satisfied: cryptography>=3.1 in /usr/local/lib/python3.10/dist-packages (from unstructured-client->unstructured[docx]) (43.0.3)\n",
            "Requirement already satisfied: eval-type-backport<0.3.0,>=0.2.0 in /usr/local/lib/python3.10/dist-packages (from unstructured-client->unstructured[docx]) (0.2.0)\n",
            "Requirement already satisfied: httpx>=0.27.0 in /usr/local/lib/python3.10/dist-packages (from unstructured-client->unstructured[docx]) (0.27.2)\n",
            "Requirement already satisfied: jsonpath-python<2.0.0,>=1.0.6 in /usr/local/lib/python3.10/dist-packages (from unstructured-client->unstructured[docx]) (1.0.6)\n",
            "Requirement already satisfied: nest-asyncio>=1.6.0 in /usr/local/lib/python3.10/dist-packages (from unstructured-client->unstructured[docx]) (1.6.0)\n",
            "Requirement already satisfied: pydantic<2.10.0,>=2.9.2 in /usr/local/lib/python3.10/dist-packages (from unstructured-client->unstructured[docx]) (2.9.2)\n",
            "Requirement already satisfied: pypdf>=4.0 in /usr/local/lib/python3.10/dist-packages (from unstructured-client->unstructured[docx]) (5.1.0)\n",
            "Requirement already satisfied: python-dateutil==2.8.2 in /usr/local/lib/python3.10/dist-packages (from unstructured-client->unstructured[docx]) (2.8.2)\n",
            "Requirement already satisfied: requests-toolbelt>=1.0.0 in /usr/local/lib/python3.10/dist-packages (from unstructured-client->unstructured[docx]) (1.0.0)\n",
            "Requirement already satisfied: cffi>=1.12 in /usr/local/lib/python3.10/dist-packages (from cryptography>=3.1->unstructured-client->unstructured[docx]) (1.17.1)\n",
            "Requirement already satisfied: anyio in /usr/local/lib/python3.10/dist-packages (from httpx>=0.27.0->unstructured-client->unstructured[docx]) (3.7.1)\n",
            "Requirement already satisfied: httpcore==1.* in /usr/local/lib/python3.10/dist-packages (from httpx>=0.27.0->unstructured-client->unstructured[docx]) (1.0.7)\n",
            "Requirement already satisfied: sniffio in /usr/local/lib/python3.10/dist-packages (from httpx>=0.27.0->unstructured-client->unstructured[docx]) (1.3.1)\n",
            "Requirement already satisfied: h11<0.15,>=0.13 in /usr/local/lib/python3.10/dist-packages (from httpcore==1.*->httpx>=0.27.0->unstructured-client->unstructured[docx]) (0.14.0)\n",
            "Requirement already satisfied: packaging>=17.0 in /usr/local/lib/python3.10/dist-packages (from marshmallow<4.0.0,>=3.18.0->dataclasses-json->unstructured[docx]) (24.2)\n",
            "Requirement already satisfied: annotated-types>=0.6.0 in /usr/local/lib/python3.10/dist-packages (from pydantic<2.10.0,>=2.9.2->unstructured-client->unstructured[docx]) (0.7.0)\n",
            "Requirement already satisfied: pydantic-core==2.23.4 in /usr/local/lib/python3.10/dist-packages (from pydantic<2.10.0,>=2.9.2->unstructured-client->unstructured[docx]) (2.23.4)\n",
            "Requirement already satisfied: mypy-extensions>=0.3.0 in /usr/local/lib/python3.10/dist-packages (from typing-inspect<1,>=0.4.0->dataclasses-json->unstructured[docx]) (1.0.0)\n",
            "Requirement already satisfied: pycparser in /usr/local/lib/python3.10/dist-packages (from cffi>=1.12->cryptography>=3.1->unstructured-client->unstructured[docx]) (2.22)\n",
            "Requirement already satisfied: exceptiongroup in /usr/local/lib/python3.10/dist-packages (from anyio->httpx>=0.27.0->unstructured-client->unstructured[docx]) (1.2.2)\n"
          ]
        }
      ]
    },
    {
      "cell_type": "code",
      "execution_count": 117,
      "metadata": {
        "colab": {
          "base_uri": "https://localhost:8080/"
        },
        "id": "fPWl2Xs78e6W",
        "outputId": "19ec0667-bb7b-4203-8b68-f9eb0592f5cc",
        "collapsed": true
      },
      "outputs": [
        {
          "output_type": "stream",
          "name": "stdout",
          "text": [
            "Requirement already satisfied: langchain-openai in /usr/local/lib/python3.10/dist-packages (from -r requirements.txt (line 2)) (0.2.9)\n",
            "Requirement already satisfied: langchain-pinecone in /usr/local/lib/python3.10/dist-packages (from -r requirements.txt (line 3)) (0.2.0)\n",
            "Requirement already satisfied: langchain-community in /usr/local/lib/python3.10/dist-packages (from -r requirements.txt (line 4)) (0.3.7)\n",
            "Requirement already satisfied: langchain-text-splitters in /usr/local/lib/python3.10/dist-packages (from -r requirements.txt (line 5)) (0.3.2)\n",
            "Requirement already satisfied: langchain-core<0.4.0,>=0.3.17 in /usr/local/lib/python3.10/dist-packages (from langchain-openai->-r requirements.txt (line 2)) (0.3.19)\n",
            "Requirement already satisfied: openai<2.0.0,>=1.54.0 in /usr/local/lib/python3.10/dist-packages (from langchain-openai->-r requirements.txt (line 2)) (1.54.4)\n",
            "Requirement already satisfied: tiktoken<1,>=0.7 in /usr/local/lib/python3.10/dist-packages (from langchain-openai->-r requirements.txt (line 2)) (0.8.0)\n",
            "Requirement already satisfied: aiohttp<3.10,>=3.9.5 in /usr/local/lib/python3.10/dist-packages (from langchain-pinecone->-r requirements.txt (line 3)) (3.9.5)\n",
            "Requirement already satisfied: numpy<2,>=1 in /usr/local/lib/python3.10/dist-packages (from langchain-pinecone->-r requirements.txt (line 3)) (1.26.4)\n",
            "Requirement already satisfied: pinecone-client<6.0.0,>=5.0.0 in /usr/local/lib/python3.10/dist-packages (from langchain-pinecone->-r requirements.txt (line 3)) (5.0.1)\n",
            "Requirement already satisfied: PyYAML>=5.3 in /usr/local/lib/python3.10/dist-packages (from langchain-community->-r requirements.txt (line 4)) (6.0.2)\n",
            "Requirement already satisfied: SQLAlchemy<2.0.36,>=1.4 in /usr/local/lib/python3.10/dist-packages (from langchain-community->-r requirements.txt (line 4)) (2.0.35)\n",
            "Requirement already satisfied: dataclasses-json<0.7,>=0.5.7 in /usr/local/lib/python3.10/dist-packages (from langchain-community->-r requirements.txt (line 4)) (0.6.7)\n",
            "Requirement already satisfied: httpx-sse<0.5.0,>=0.4.0 in /usr/local/lib/python3.10/dist-packages (from langchain-community->-r requirements.txt (line 4)) (0.4.0)\n",
            "Requirement already satisfied: langchain<0.4.0,>=0.3.7 in /usr/local/lib/python3.10/dist-packages (from langchain-community->-r requirements.txt (line 4)) (0.3.7)\n",
            "Requirement already satisfied: langsmith<0.2.0,>=0.1.125 in /usr/local/lib/python3.10/dist-packages (from langchain-community->-r requirements.txt (line 4)) (0.1.143)\n",
            "Requirement already satisfied: pydantic-settings<3.0.0,>=2.4.0 in /usr/local/lib/python3.10/dist-packages (from langchain-community->-r requirements.txt (line 4)) (2.6.1)\n",
            "Requirement already satisfied: requests<3,>=2 in /usr/local/lib/python3.10/dist-packages (from langchain-community->-r requirements.txt (line 4)) (2.32.3)\n",
            "Requirement already satisfied: tenacity!=8.4.0,<10,>=8.1.0 in /usr/local/lib/python3.10/dist-packages (from langchain-community->-r requirements.txt (line 4)) (9.0.0)\n",
            "Requirement already satisfied: aiosignal>=1.1.2 in /usr/local/lib/python3.10/dist-packages (from aiohttp<3.10,>=3.9.5->langchain-pinecone->-r requirements.txt (line 3)) (1.3.1)\n",
            "Requirement already satisfied: attrs>=17.3.0 in /usr/local/lib/python3.10/dist-packages (from aiohttp<3.10,>=3.9.5->langchain-pinecone->-r requirements.txt (line 3)) (24.2.0)\n",
            "Requirement already satisfied: frozenlist>=1.1.1 in /usr/local/lib/python3.10/dist-packages (from aiohttp<3.10,>=3.9.5->langchain-pinecone->-r requirements.txt (line 3)) (1.5.0)\n",
            "Requirement already satisfied: multidict<7.0,>=4.5 in /usr/local/lib/python3.10/dist-packages (from aiohttp<3.10,>=3.9.5->langchain-pinecone->-r requirements.txt (line 3)) (6.1.0)\n",
            "Requirement already satisfied: yarl<2.0,>=1.0 in /usr/local/lib/python3.10/dist-packages (from aiohttp<3.10,>=3.9.5->langchain-pinecone->-r requirements.txt (line 3)) (1.17.2)\n",
            "Requirement already satisfied: async-timeout<5.0,>=4.0 in /usr/local/lib/python3.10/dist-packages (from aiohttp<3.10,>=3.9.5->langchain-pinecone->-r requirements.txt (line 3)) (4.0.3)\n",
            "Requirement already satisfied: marshmallow<4.0.0,>=3.18.0 in /usr/local/lib/python3.10/dist-packages (from dataclasses-json<0.7,>=0.5.7->langchain-community->-r requirements.txt (line 4)) (3.23.1)\n",
            "Requirement already satisfied: typing-inspect<1,>=0.4.0 in /usr/local/lib/python3.10/dist-packages (from dataclasses-json<0.7,>=0.5.7->langchain-community->-r requirements.txt (line 4)) (0.9.0)\n",
            "Requirement already satisfied: pydantic<3.0.0,>=2.7.4 in /usr/local/lib/python3.10/dist-packages (from langchain<0.4.0,>=0.3.7->langchain-community->-r requirements.txt (line 4)) (2.9.2)\n",
            "Requirement already satisfied: jsonpatch<2.0,>=1.33 in /usr/local/lib/python3.10/dist-packages (from langchain-core<0.4.0,>=0.3.17->langchain-openai->-r requirements.txt (line 2)) (1.33)\n",
            "Requirement already satisfied: packaging<25,>=23.2 in /usr/local/lib/python3.10/dist-packages (from langchain-core<0.4.0,>=0.3.17->langchain-openai->-r requirements.txt (line 2)) (24.2)\n",
            "Requirement already satisfied: typing-extensions>=4.7 in /usr/local/lib/python3.10/dist-packages (from langchain-core<0.4.0,>=0.3.17->langchain-openai->-r requirements.txt (line 2)) (4.12.2)\n",
            "Requirement already satisfied: httpx<1,>=0.23.0 in /usr/local/lib/python3.10/dist-packages (from langsmith<0.2.0,>=0.1.125->langchain-community->-r requirements.txt (line 4)) (0.27.2)\n",
            "Requirement already satisfied: orjson<4.0.0,>=3.9.14 in /usr/local/lib/python3.10/dist-packages (from langsmith<0.2.0,>=0.1.125->langchain-community->-r requirements.txt (line 4)) (3.10.11)\n",
            "Requirement already satisfied: requests-toolbelt<2.0.0,>=1.0.0 in /usr/local/lib/python3.10/dist-packages (from langsmith<0.2.0,>=0.1.125->langchain-community->-r requirements.txt (line 4)) (1.0.0)\n",
            "Requirement already satisfied: anyio<5,>=3.5.0 in /usr/local/lib/python3.10/dist-packages (from openai<2.0.0,>=1.54.0->langchain-openai->-r requirements.txt (line 2)) (3.7.1)\n",
            "Requirement already satisfied: distro<2,>=1.7.0 in /usr/local/lib/python3.10/dist-packages (from openai<2.0.0,>=1.54.0->langchain-openai->-r requirements.txt (line 2)) (1.9.0)\n",
            "Requirement already satisfied: jiter<1,>=0.4.0 in /usr/local/lib/python3.10/dist-packages (from openai<2.0.0,>=1.54.0->langchain-openai->-r requirements.txt (line 2)) (0.7.1)\n",
            "Requirement already satisfied: sniffio in /usr/local/lib/python3.10/dist-packages (from openai<2.0.0,>=1.54.0->langchain-openai->-r requirements.txt (line 2)) (1.3.1)\n",
            "Requirement already satisfied: tqdm>4 in /usr/local/lib/python3.10/dist-packages (from openai<2.0.0,>=1.54.0->langchain-openai->-r requirements.txt (line 2)) (4.66.6)\n",
            "Requirement already satisfied: certifi>=2019.11.17 in /usr/local/lib/python3.10/dist-packages (from pinecone-client<6.0.0,>=5.0.0->langchain-pinecone->-r requirements.txt (line 3)) (2024.8.30)\n",
            "Requirement already satisfied: pinecone-plugin-inference<2.0.0,>=1.0.3 in /usr/local/lib/python3.10/dist-packages (from pinecone-client<6.0.0,>=5.0.0->langchain-pinecone->-r requirements.txt (line 3)) (1.1.0)\n",
            "Requirement already satisfied: pinecone-plugin-interface<0.0.8,>=0.0.7 in /usr/local/lib/python3.10/dist-packages (from pinecone-client<6.0.0,>=5.0.0->langchain-pinecone->-r requirements.txt (line 3)) (0.0.7)\n",
            "Requirement already satisfied: urllib3>=1.26.0 in /usr/local/lib/python3.10/dist-packages (from pinecone-client<6.0.0,>=5.0.0->langchain-pinecone->-r requirements.txt (line 3)) (2.2.3)\n",
            "Requirement already satisfied: python-dotenv>=0.21.0 in /usr/local/lib/python3.10/dist-packages (from pydantic-settings<3.0.0,>=2.4.0->langchain-community->-r requirements.txt (line 4)) (1.0.1)\n",
            "Requirement already satisfied: charset-normalizer<4,>=2 in /usr/local/lib/python3.10/dist-packages (from requests<3,>=2->langchain-community->-r requirements.txt (line 4)) (3.4.0)\n",
            "Requirement already satisfied: idna<4,>=2.5 in /usr/local/lib/python3.10/dist-packages (from requests<3,>=2->langchain-community->-r requirements.txt (line 4)) (3.10)\n",
            "Requirement already satisfied: greenlet!=0.4.17 in /usr/local/lib/python3.10/dist-packages (from SQLAlchemy<2.0.36,>=1.4->langchain-community->-r requirements.txt (line 4)) (3.1.1)\n",
            "Requirement already satisfied: regex>=2022.1.18 in /usr/local/lib/python3.10/dist-packages (from tiktoken<1,>=0.7->langchain-openai->-r requirements.txt (line 2)) (2024.9.11)\n",
            "Requirement already satisfied: exceptiongroup in /usr/local/lib/python3.10/dist-packages (from anyio<5,>=3.5.0->openai<2.0.0,>=1.54.0->langchain-openai->-r requirements.txt (line 2)) (1.2.2)\n",
            "Requirement already satisfied: httpcore==1.* in /usr/local/lib/python3.10/dist-packages (from httpx<1,>=0.23.0->langsmith<0.2.0,>=0.1.125->langchain-community->-r requirements.txt (line 4)) (1.0.7)\n",
            "Requirement already satisfied: h11<0.15,>=0.13 in /usr/local/lib/python3.10/dist-packages (from httpcore==1.*->httpx<1,>=0.23.0->langsmith<0.2.0,>=0.1.125->langchain-community->-r requirements.txt (line 4)) (0.14.0)\n",
            "Requirement already satisfied: jsonpointer>=1.9 in /usr/local/lib/python3.10/dist-packages (from jsonpatch<2.0,>=1.33->langchain-core<0.4.0,>=0.3.17->langchain-openai->-r requirements.txt (line 2)) (3.0.0)\n",
            "Requirement already satisfied: annotated-types>=0.6.0 in /usr/local/lib/python3.10/dist-packages (from pydantic<3.0.0,>=2.7.4->langchain<0.4.0,>=0.3.7->langchain-community->-r requirements.txt (line 4)) (0.7.0)\n",
            "Requirement already satisfied: pydantic-core==2.23.4 in /usr/local/lib/python3.10/dist-packages (from pydantic<3.0.0,>=2.7.4->langchain<0.4.0,>=0.3.7->langchain-community->-r requirements.txt (line 4)) (2.23.4)\n",
            "Requirement already satisfied: mypy-extensions>=0.3.0 in /usr/local/lib/python3.10/dist-packages (from typing-inspect<1,>=0.4.0->dataclasses-json<0.7,>=0.5.7->langchain-community->-r requirements.txt (line 4)) (1.0.0)\n",
            "Requirement already satisfied: propcache>=0.2.0 in /usr/local/lib/python3.10/dist-packages (from yarl<2.0,>=1.0->aiohttp<3.10,>=3.9.5->langchain-pinecone->-r requirements.txt (line 3)) (0.2.0)\n"
          ]
        }
      ],
      "source": [
        "!pip install -r requirements.txt\n"
      ]
    },
    {
      "cell_type": "code",
      "execution_count": 118,
      "metadata": {
        "id": "crIiHC1T8e6W",
        "colab": {
          "base_uri": "https://localhost:8080/"
        },
        "outputId": "935023d2-8417-4da6-88e8-9f4b83f21ae0"
      },
      "outputs": [
        {
          "output_type": "stream",
          "name": "stderr",
          "text": [
            "[nltk_data] Downloading package punkt to /root/nltk_data...\n",
            "[nltk_data]   Package punkt is already up-to-date!\n"
          ]
        },
        {
          "output_type": "execute_result",
          "data": {
            "text/plain": [
              "True"
            ]
          },
          "metadata": {},
          "execution_count": 118
        }
      ],
      "source": [
        "from langchain_openai import OpenAIEmbeddings\n",
        "from langchain_pinecone import PineconeVectorStore\n",
        "\n",
        "from langchain_community.document_loaders import DirectoryLoader\n",
        "from langchain_text_splitters import RecursiveCharacterTextSplitter\n",
        "\n",
        "import os\n",
        "import glob\n",
        "import nltk\n",
        "nltk.download('punkt')"
      ]
    },
    {
      "cell_type": "code",
      "source": [
        "!mkdir data\n"
      ],
      "metadata": {
        "colab": {
          "base_uri": "https://localhost:8080/"
        },
        "collapsed": true,
        "id": "rJp40jDhGktT",
        "outputId": "7f6d367d-bf26-4a2f-a836-f4f9f4a597c1"
      },
      "execution_count": 119,
      "outputs": [
        {
          "output_type": "stream",
          "name": "stdout",
          "text": [
            "mkdir: cannot create directory ‘data’: File exists\n"
          ]
        }
      ]
    },
    {
      "cell_type": "code",
      "execution_count": 120,
      "metadata": {
        "id": "KcsiZfWK8e6X"
      },
      "outputs": [],
      "source": [
        "m_loader = DirectoryLoader(\n",
        "    path=\"data\",\n",
        "    glob=\"**/*.txt\"\n",
        ")\n",
        "docs = m_loader.load()"
      ]
    },
    {
      "cell_type": "code",
      "execution_count": 121,
      "metadata": {
        "id": "ze4f_0JS8e6X",
        "colab": {
          "base_uri": "https://localhost:8080/"
        },
        "collapsed": true,
        "outputId": "c9226ad6-e764-4806-82d4-caf193386c0d"
      },
      "outputs": [
        {
          "output_type": "execute_result",
          "data": {
            "text/plain": [
              "Document(metadata={'source': 'data/ai_verileri.txt'}, page_content='Kendini bir bot değil belki “Deniz Eren” isimi ile kendini tanıtacaktır. Temel Cümleler; Merhaba “Alle Group”a hoşgeldiniz. Ben Deniz Eren, size nasıl yardımcı olabilirim? Sorunuz için teşekkür ederim/bizimle iletişime geçtiğiniz için teşekkür ederim, “Cevap” Proje yöneticinize bildirdim en kısa sürede size dönüş sağlayacağım. Anlayışınız için teşekkür ederim, size yardımcı olmak için elimden geleni yapacağım. Teşekkür ederim, Size yardımcı olabileceğim başka bir konu var mı? her hangi bir sorunuz olursa lütfen bize ulaşmaktan çekinmeyin. Alle Group ile iletişime geçtiğiniz için teşekkür ederiz. Mutluluk dolu bir gün diliyorum.\\n\\nŞirket Hakkında Bilgiler; Hakkımızda Giderek daha fazla küresel bir hale gelen dünyanın en önemli ihtiyaçlarından biri, farklı kültürlerin birbirleriyle iletişim kurması, değişik dillerden insanların ve kurumların daha fazla temas kurarak ortaklıklar kurmasıdır. Bu şartlarda farklı dil ve kültürleri iyi bilen ve onları birbiriyle ilişkiye geçirebilen çevirmenler hem yazılı hem de sözlü olarak büyük bir hizmet sunmaktadırlar. Özellikle kurumsal ilişkilerde tercüme hizmeti neredeyse yapılan işin kendisi kadar büyük önem taşımaktadır. Çünkü ilişkilerin doğru ve birbirine tercüme edilen dil ve kültürlerin değerlerine uygun şekilde kurulması, işlerin amacına uygun şekilde gerçekleşmesini de beraberinde getirmektedir. Tercümanlar/çevirmenler bu nedenle sadece dil bilen insanlar değil, aynı zamanda bildikleri ve birbirine tercüme ettikleri dil ve kültürleri çok iyi bilen yetkin insanlardır.Çeviri hizmeti günümüzün en önemli ve titizlikle yürütülmesi gereken faaliyetlerinden biri olarak kabul edilmektedir. Bu anlayışla hareket eden Alle Yayıncılık Yabancı Dil Hizmetleri Danışmanlık Sanayi ve Ticaret Limited Şirketi, 2012 yılında Ankara’da kurularak “Alle Tercüme Bürosu” markası altında çeviri sektöründe faaliyetlerine başlamıştır. Kurulduğu günden beri kararlı adımlarla müşterilerin memnuniyetini yol haritası haline getirerek sektörde ilerlemeye devam etmiştir. Tercüme işlerini sadece teknik bir iş olarak değil, kültürler arası bir bağ kurma yolu olarak görmektedir. 2022 Yılında faaliyetleri geliştirmek üzere İstanbul Şubesi açıldı ve daha fazla kitliye hizmet vermeye başladı. 2024 Yılında “Alle Document Asist”, “Alle Expat” ve “Alle Backoffice” markalarını piyasaya sunarak hizmet yelpazesini genişleterek, ileriye doğru emin adımlar atmaya devam ediyor. Alle Tercüme Bürosu olarak uzun yıllar boyunca kazandığımız deneyim ile her gün kendimizi geliştirerek ve sektördeki trendleri ve yenilikleri takip ederek müşterilerimize daha kaliteli ve profesyonel hizmet sunmaya ve memnuniyetlerini en üst seviyede tutmaya çalışıyoruz. Alle Tercüme Bürosu olarak kurumlar ve firmaların çözüm ortağı olmak, kurumlar ve şirketlerin herhangi bir endişe ve kaygı taşımadan ticari faaliyetleri ve idari süreçlerindeki çeviri işlemlerini prensipler çerçevesinde gerçekleştirmekten mutluluk duyuyoruz. Bununla birlikte bireysel müşterilerin kişisel idari süreçlerindeki tercüme işlerini ve kişisel çeviri işlerini de yapmaktan ve onların işlerini kolaylaştırmaktan gurur duyuyoruz. Misyon & Vizyon Misyonumuz Alle Yeminli Tercüme Bürosu olarak müşteri memnuniyetini en temel prensip olarak kabul etmekteyiz. Bununla birlikte emeğe saygı, birlikte çalıştığımız kurumların güvenliğini ve gizliliğini koruma, firmaların ticari sırlarını ve güven gerektiren çalışmalarını her durumda koruma altında tutma, tercüme ve tercüme sektörüyle ilişkili işlerin ülke ve dünya genelinde belirli standartlar kazanmasına katkıda bulunma, etik ve ahlaki değerlere bağlı bir şekilde ticari ilişkiler kurma ve profesyonellikten ödün vermeme esas hedeflerimiz arasında yer almaktadır. Bunların yanı sıra kişilerin özel çeviri işlerini en yüksek güvenlik ve gizlilik altında en iyi kalitede yapmak ve onları hedeflerine ulaşmasında katkıda bulunmak, Alle Yeminli Tercüme Bürosu olarak çalışmalarımızın merkezinde yer almaktadır. Vizyonumuz Kurumsal bir şirket olarak, kobiler, büyük firmalar, kamu kurum ve kuruluşları nezdinde güvenilir bir tercüme markası olarak sektörün öncü çözüm ortağı olmak ve uzman ekibimizle iş ortaklarımızın ve paydaşlarımızın hedeflerine ulaşmasında katkıda bulunan bir marka olmak. Kurumsal yapımızı daha da geliştirip marka kimliğini kalıcılaştırmak ve en uygun fiyatlarla ve kaliteli çeviri hizmetleri sunmak. Çalışma Politikamız Alle Tercüme Bürosu için her bir çeviri siparişi, önemli bir projedir, dolayısıyla müşteri tarafından bize teslim edilen her bir belge ve sipariş büyük bir dikkat ve titizlikle belirlediğimiz standartlar ve benimsediğimiz profesyonellik çerçevesinde tercüme edilip ve ilgili makamların onayına sunulduktan sonra müşteriye teslim edilmektedir. Gizlilik, şeffaflık, hızlı ve hatasız iş teslimi, müşteriyle kararlaştırılan teslim zamanlarına bağlılık, profesyonel ve alanında uzman kadrolarla çalışmak ve yeni teknik ve teknolojilerle iş süreçlerini yaratıcı bir çalışmaya dönüştürmek, çalışma prensiplerimizden bazılarıdır. Müşteri odaklı çalışma sistemiyle ve alanında yetkinliğini pratik tecrübelerinden ve yılların birikiminden alan kadrosuyla hızlı, güvenli ve uygun fiyatlarla hizmet sunan Alle Tercüme Bürosunun çalışma politikası aşağıda belirtilmiştir.\\n\\nHizmetlerimiz; Tercüme Hizmetleri: Yazılı ve sözlü olmak üzere çeviri hizmeti sağlamaktayız. Hizmetlerimiz Yeminli çeviri/tercüme ve normal çeviri/tercüme olmak üzere ikiye ayrılır. Yeminli Çeviri: Yetkili makamlar tarafından onaylanan tercümanlar tarafından yapılan çeviriye denir. Resmi makamların onayına sunulacak olan belgeler yeminli tercüman tarafından tercüme edilir. Normal Çeviri: Resmi makamların onayına sunulmayacak website içeriği, makaleler vb. taraflar arasındaki yazışmalar ve görüşmeler vb. içerikler yeminli tercüman gerektirmeden deneyimli ve uzman tercümanlar tarafından yapılabilmektedir. Yazılı Çeviri: Hard ve sof copy olmak üzere her hangi bir materyali bir dilden başka dile çevrilmesidir. Sözlü Çeviri: her hangi bir iki kişi, iki grup, iki kurum, kişi ve kurum arasında farklı dillerde geçen konuşmaların çevirisidir. Sözlü çeviride yeminli ve normal çeviri olarak ikiye ayrılmaktadır. Noter, tapu ve resmi kurumlarda yapılacak olan resmi süreçlerde yeminli tercüman veya adliye tarafından onaylı bilirkişi tercüman tarafından tercüme yapılması gerekmektedir. Ancak şirketler, kurumlar ve şahıslar arasındaki toplantılar ve görüşmelerde ve resmi işlem gerektirmeyen görüşmelerde uzman ve deneyimli tercüman işlem yapabilmektedir. Yazılı ve sözlü olmak üzere tüm alanlarda çeviri hizmeti sağlıyoruz. Document Asist Hizmeti: Bu hizmet kapsamında belgelerin resmi kurumlar nezdinde onay süreçlerini takip ediyoruz. Evrakların herhangi bir kurumdan onaylanacaksa süreci takip edip, evrakları onaylı bir şekilde müşteriye teslim ediyoruz. Noter, Kaymakamlık (Apostil/Tasdik), dışişleri bakanlığı, konsolosluklar, ticaret ve sanayi odaları, milli eğitim bakanlığı ve müdürlükleri, YÖK gibi kurumlarda evrak onay süreçlerini takip ediyoruz.\\n\\nÇeviri Süreci; Proforma/Contract and Payment: Sipariş müşteri tarafından onaylandıktan sonra sözleşme ve proforma faturası düzenlenir. Alınan ödemeler sözleşmede belirtilir. Proje numarasını içeren sözleşme ve proformanın bir nüshası müşteriye teslim edilir. Pre-Preparation: Proje, tercümana gönderilmeden önce, proje sürecinde süre ve kalite açısından en verimli sonucu elde etmek adına destek ekibine gönderilir. Translation Process: Ön hazırlık aşamasından elde edilen verilere ve projenin konusu, dil çifti, önemi, sunulacağı kurum gibi hususlar dikkate alınarak proje için en uygun tercüman seçilir veya en uygun tercüman ekibi oluşturulur ve çeviri süreci başlatılır. Projenin büyüklüğüne göre proje yöneticisi tarafından ara duraklar belirlenerek, projenin zamanında bitmesi adına çeviri sürecinin ilerlemesi denetlenir. Quality Control: Dosyanın çevirisi bitince veya eş zamanlı çeviri süreci devam ederken, kalite kontrol çalışmaları başlatılır. Bunun için destek ekibimiz ile birlikte projeye uygun editör veya editör ekibi seçilir veya oluşturulur. Projenin çevirinin doğruluğu, gramer hataları, anlam kaymaları, imla hataları, eksiklikler gibi hususlar kontrol edilir. Eksiklikler giderilir ve tekrar proje yöneticisine teslim edilir. Order Preparation: Projenin sayfa düzeni kontrol edilir. Müşterinin talebi, sunulacağı kurum ve projenin amacına uygun bir şekilde hard/soft copy şeklinde gereken kaşeler ve imzalar ile birlikte hazırlanır. Approval/Shipping Processes: Proje Noter, Kaymakamlık, Dışişleri, Konsolosluk, Ticaret ve Sanayi Odaları gibi kurum ve kuruluşlardan onaylanacaksa, Müşterinin talebi halinde ve ücreti müşteri tarafından karşılanma kaydıyla süreç şirket tarafından takip edilir ve gereken onaylar alınır. Ayrıca dosyalar kargo, kurye veya posta ile gönderilmesi gerekiyorsa süreç takip edilecektir veya doğrudan müşteriye teslim edilecektir.\\n\\nŞirke Yapısı; CEO (Ekber Muktedir) Ankara Şube Müdürü (Can Mert Tatlıoğlu) Proje Yöneticisi (Can Mert Tatlıoğlu) Proje Yöneticisi (Sinem Nur Kemeral) Proje Yöneticisi (Şüheda Öztürk) Proje Yöneticisi Yardımcısı (Mert Eke) İstanbul Şube Müdürü (Cihan Lodos) Proje Yöneticisi (Cihan Lodos) Proje Yöneticisi (Behrad Safa) Destek Ekip Müdürü (Mehrshad Falahatgar) Destek Ekibi Üyesi (Kamal) Destek Ekibi Üyesi (Pavithra) Destek Ekibi Üyesi (Fereshteh) Destek Ekibi Üyesi (Bahman Ziari) Muhasebe Şefi (Nadire Muktedir) Sipariş İptal Koşulları; Müşteri siparişini teslimden önce iptal edilmesini talep etmesi halinde durum proje yöneticisi tarafından değerlendirilir, projenin ilerlemesi ve doğan masraflar ve sarf edilen emekler dikkate alınarak projenin iptali konusunda son kararı proje yöneticisi verecektir. Proje yöneticisi projeyi hiçbir sebep sunmadan iptal etmeme hakkına sahiptir. Banka Hesap Bilgilerimiz; Vakıf Bankası (TL) IBAN: TR60 0001 5001 5800 7309 6236 91 Hesap Adı: ALLE YAYINCILIK YABANCI DİL HİZMETLERİ DAN. SAN. ve TİC. LTD. ŞTİ Şube: Kavaklıdere / ANKARA\\n\\nVakıf Bankası (USD) IBAN: TR60 0001 5001 5800 7309 6236 91 Hesap Adı: ALLE YAYINCILIK YABANCI DİL HİZMETLERİ DAN. SAN. ve TİC. LTD. ŞTİ Şube: Kavaklıdere / ANKARA Swift Kodu: TVBATR2AFEX\\n\\nVakıf Bankası (EUR) IBAN: TR60 0001 5001 5800 7309 6236 91 Hesap Adı: ALLE YAYINCILIK YABANCI DİL HİZMETLERİ DAN. SAN. ve TİC. LTD. ŞTİ Şube: Kavaklıdere / ANKARA Swift Kodu: TVBATR2AFEX\\n\\nPaypal Hesabımız;\\n\\nakbarmuktedir@gmail.com\\n\\nWise Hesabımız;\\n\\nakbarmuktedir@gmail.com\\n\\nMüşteri için FAQ')"
            ]
          },
          "metadata": {},
          "execution_count": 121
        }
      ],
      "source": [
        "docs[0]"
      ]
    },
    {
      "cell_type": "code",
      "execution_count": 122,
      "metadata": {
        "id": "-TXqiEC68e6X"
      },
      "outputs": [],
      "source": [
        "import os\n",
        "\n",
        "# Tanımlamaları yapın (örnek olarak)\n",
        "PINECONE_API_KEY = \"88c6a8f6-fc21-4b1d-bb91-3951f3fb16f8\"\n",
        "OPENAI_API_KEY = \"sk-proj-EhlifDQnRaJU2OWVa8rnT3BlbkFJCPYZxGEBVyZa6luzOX46\"\n",
        "index_name = \"allechatbot\"\n",
        "\n",
        "# Ortam değişkenlerini ayarlayın\n",
        "os.environ['PINECONE_API_KEY'] = PINECONE_API_KEY\n",
        "os.environ['OPENAI_API_KEY'] = OPENAI_API_KEY\n",
        "\n",
        "# OpenAIEmbeddings sınıfını kullanarak modeli başlatın\n",
        "from langchain_openai import OpenAIEmbeddings\n",
        "\n",
        "m_embeddings = OpenAIEmbeddings(\n",
        "    model=\"text-embedding-3-small\"\n",
        "    )\n"
      ]
    },
    {
      "cell_type": "code",
      "execution_count": 123,
      "metadata": {
        "id": "4ULYk79j8e6X",
        "colab": {
          "base_uri": "https://localhost:8080/"
        },
        "outputId": "db6db6d8-7531-4551-fa6f-eb51a11fd554",
        "collapsed": true
      },
      "outputs": [
        {
          "output_type": "execute_result",
          "data": {
            "text/plain": [
              "Document(metadata={'source': 'data/ai_verileri.txt'}, page_content='Kendini bir bot değil belki “Deniz Eren” isimi ile kendini tanıtacaktır. Temel Cümleler; Merhaba “Alle Group”a hoşgeldiniz. Ben Deniz Eren, size nasıl yardımcı olabilirim? Sorunuz için teşekkür ederim/bizimle iletişime geçtiğiniz için teşekkür ederim, “Cevap” Proje yöneticinize bildirdim en kısa sürede size dönüş sağlayacağım. Anlayışınız için teşekkür ederim, size yardımcı olmak için elimden geleni yapacağım. Teşekkür ederim, Size yardımcı olabileceğim başka bir konu var mı? her hangi bir sorunuz olursa lütfen bize ulaşmaktan çekinmeyin. Alle Group ile iletişime geçtiğiniz için teşekkür ederiz. Mutluluk dolu bir gün diliyorum.')"
            ]
          },
          "metadata": {},
          "execution_count": 123
        }
      ],
      "source": [
        "#split the document into chunks\n",
        "m_splitter = RecursiveCharacterTextSplitter()\n",
        "chunks = m_splitter.split_documents(docs)\n",
        "\n",
        "chunks[0]"
      ]
    },
    {
      "cell_type": "code",
      "execution_count": 124,
      "metadata": {
        "id": "BKXXZRZ58e6X"
      },
      "outputs": [],
      "source": [
        "m_vectorstore = PineconeVectorStore.from_documents(chunks, m_embeddings, index_name=\"allechatbot\")"
      ]
    },
    {
      "cell_type": "markdown",
      "metadata": {
        "id": "GS6pOWax8e6X"
      },
      "source": [
        "# Searching Pinecone"
      ]
    },
    {
      "cell_type": "code",
      "execution_count": 125,
      "metadata": {
        "id": "MU6JNYih8e6Y"
      },
      "outputs": [],
      "source": [
        "from pinecone import Pinecone\n",
        "import os\n",
        "\n",
        "class PineconeClientSingleton:\n",
        "    _instance = None\n",
        "\n",
        "    @staticmethod\n",
        "    def get_instance():\n",
        "        if PineconeClientSingleton._instance is None:\n",
        "            # Initialize Pinecone client\n",
        "            api_key = os.getenv(\"PINECONE_API_KEY\")\n",
        "            PineconeClientSingleton._instance = Pinecone(api_key=api_key)\n",
        "            return PineconeClientSingleton._instance\n",
        "\n",
        "    @staticmethod\n",
        "    def create_index(name, dimension, metric, spec):\n",
        "        if name not in PineconeClientSingleton._instance.list_indexes().names():\n",
        "            PineconeClientSingleton._instance.create_index(\n",
        "                name=name,\n",
        "                dimension=dimension,\n",
        "                metric=metric,\n",
        "                spec=spec\n",
        "            )\n",
        "\n",
        "    @staticmethod\n",
        "    def get_index(name):\n",
        "        if name not in PineconeClientSingleton._instance.list_indexes().names():\n",
        "            False\n",
        "        else:\n",
        "            return PineconeClientSingleton._instance.Index(name)\n",
        "\n",
        "    @staticmethod\n",
        "    def delete_index(name):\n",
        "        if name in PineconeClientSingleton._instance.list_indexes().names():\n",
        "            PineconeClientSingleton._instance.delete_index(name)\n",
        "\n",
        "\n",
        "# Create the Pinecone client\n",
        "pinecone_client = PineconeClientSingleton.get_instance()\n",
        "index = PineconeClientSingleton.get_index(\"allechatbot\")"
      ]
    },
    {
      "cell_type": "code",
      "execution_count": 126,
      "metadata": {
        "id": "KMX0sQzq8e6Y"
      },
      "outputs": [],
      "source": [
        "vectorstore_client = PineconeVectorStore(index=index, embedding=m_embeddings)"
      ]
    },
    {
      "cell_type": "code",
      "execution_count": 127,
      "metadata": {
        "id": "fKM5cAcE8e6Y",
        "outputId": "bcb63601-d8f5-40c3-99d0-be15b30221e2",
        "collapsed": true,
        "colab": {
          "base_uri": "https://localhost:8080/"
        }
      },
      "outputs": [
        {
          "output_type": "execute_result",
          "data": {
            "text/plain": [
              "[Document(id='31a665ac-fc97-4b5f-b62a-258eef8c4a57', metadata={'source': 'data/AI-Veriler.txt'}, page_content='Tercüme edilmiş belgeyi nereden apostilleyeceğim? Apostil ve tasdik şerhi için kaymakamlık veya valiliklere başvurmanız lazım. Siz aposil yapıyor musunuz? Biz belgelere kaymakamlık veya valiliklerden apostil veya tasdik şerhi alabilmesi için süreci takip edebiliriz. Merhaba iyi günler, türkçeden almancaya 7 sayfalık belge çevirtecektim ama, gönderdiğim belgelere fiyat ve süre söylemeniz mümkün mü? Tabi ki, gönderdiğiniz belgeleri hemen proje yöneticilerimize iletiyorum çok kısa bir süre içinde sizinle iletişime geçecekler. Nasıl sipariş verebilirim? Buradan veya mail üzerinden dosyalarınızı bizimle paylaşabilirsiniz, proje yöneticilerimiz dosyanızı inceleyip ve sizinle iletişime geçektir ve onayınızın ardından süreci başlatacaktır. Ayrıca ofislerimize fiziki olarak da başvurabilirsiniz veya dosyalarınız kargo/kurye iletebilirsiniz. Dosyalar proje yöneticilerimize ulaşınca sizinle iletişime geçip süreci takip edecekler. Siparişimi Nasıl teslim alabilirim? Dosyalarınız ofisten fiziki olarak teslim alabilirsiniz veya ihtiyacınıza göre taramalarını size iletebiliriz. Ayrıca Kargo/posta/kurye aracılığı ile dosyalarınızı adresinize teslim edebiliriz. Online nasıl sipariş verebilirim? Buradan veya mail üzerinden dosyalarınızı bizimle paylaşabilirsiniz, proje yöneticilerimiz dosyanızı inceleyip ve sizinle iletişime geçektir ve onayınızın ardından süreci başlatacaktır. çeviriyi iade edebilir miyim?\\n\\nSiparişiniz hizmet kapsamında olduğundan ve siparişin gerçekleştirilmesi masraflara tabi olduğundan dolayı hizmet kapsamına giren satışların iadesi ne yazık ki mümkün değildir. Hangi dillerde yeminli çeviri yapıyorsunuz? Dünyanın bir çok resmi dilinde yeminli çeviri hizmeti sunuyoruz. Siz hangi dilde tercüme hizmetine ihtiyacınız var? XX dilinde yeminli tercümanınız var mı? Tabi ki, dosyalarınızı bizimle paylaşırsanız, fiyat ve süre konusunda size detaylı bilgi verebiliriz. Çevirinizi kabul etmediler\\rBu konuda proje yöneticiniz ile danışırsanız daha sağlıklı bir sonuç elde edebilirsiniz, eğer proje yöneticinizin kim olduğunu bilmiyorsanız veya iletişim numarası yoksa ben bu konuda size yardımcı olabilirim. Siparişim hazır olmadı mı? Bu konuda proje yöneticinizden bilgi alırsanız daha sağlıklı olur, eğer proje yöneticinizin kim olduğunu bilmiyorsanız veya iletişim numarası yoksa ben size yardımcı olabilirim. Bana henüz dönüş sağlanmadı\\rBeklediğiniz için teşekkür ederim. Proje yöneticilerimiz yoğun bir mesai içindeler, Hemen ilgileniyorum. Teslim aldığım sipariş ile ilgili sorun yaşıyorum\\rBu konuda proje yöneticiniz ile danışırsanız daha sağlıklı bir sonuç elde edebilirsiniz, eğer proje yöneticinizin kim olduğunu bilmiyorsanız veya iletişim numarası yoksa ben size yardımcı olabilirim. Çeviri ücretlerini soracaktım? Tabi ki, tercüme edilecek dosyaları bizimle paylaşırsanız size fiyat ve süre konusunda detaylı bilgi verebilirim.'),\n",
              " Document(id='896aad74-205c-4a7e-8550-27282f5ff3fb', metadata={'source': 'data/data.txt'}, page_content='Tercüme edilmiş belgeyi nereden apostilleyeceğim? Apostil ve tasdik şerhi için kaymakamlık veya valiliklere başvurmanız lazım. Siz aposil yapıyor musunuz? Biz belgelere kaymakamlık veya valiliklerden apostil veya tasdik şerhi alabilmesi için süreci takip edebiliriz. Merhaba iyi günler, türkçeden almancaya 7 sayfalık belge çevirtecektim ama, gönderdiğim belgelere fiyat ve süre söylemeniz mümkün mü? Tabi ki, gönderdiğiniz belgeleri hemen proje yöneticilerimize iletiyorum çok kısa bir süre içinde sizinle iletişime geçecekler. Nasıl sipariş verebilirim? Buradan veya mail üzerinden dosyalarınızı bizimle paylaşabilirsiniz, proje yöneticilerimiz dosyanızı inceleyip ve sizinle iletişime geçektir ve onayınızın ardından süreci başlatacaktır. Ayrıca ofislerimize fiziki olarak da başvurabilirsiniz veya dosyalarınız kargo/kurye iletebilirsiniz. Dosyalar proje yöneticilerimize ulaşınca sizinle iletişime geçip süreci takip edecekler. Siparişimi Nasıl teslim alabilirim? Dosyalarınız ofisten fiziki olarak teslim alabilirsiniz veya ihtiyacınıza göre taramalarını size iletebiliriz. Ayrıca Kargo/posta/kurye aracılığı ile dosyalarınızı adresinize teslim edebiliriz. Online nasıl sipariş verebilirim? Buradan veya mail üzerinden dosyalarınızı bizimle paylaşabilirsiniz, proje yöneticilerimiz dosyanızı inceleyip ve sizinle iletişime geçektir ve onayınızın ardından süreci başlatacaktır. çeviriyi iade edebilir miyim?\\n\\nSiparişiniz hizmet kapsamında olduğundan ve siparişin gerçekleştirilmesi masraflara tabi olduğundan dolayı hizmet kapsamına giren satışların iadesi ne yazık ki mümkün değildir. Hangi dillerde yeminli çeviri yapıyorsunuz? Dünyanın bir çok resmi dilinde yeminli çeviri hizmeti sunuyoruz. Siz hangi dilde tercüme hizmetine ihtiyacınız var? XX dilinde yeminli tercümanınız var mı? Tabi ki, dosyalarınızı bizimle paylaşırsanız, fiyat ve süre konusunda size detaylı bilgi verebiliriz. Çevirinizi kabul etmediler\\rBu konuda proje yöneticiniz ile danışırsanız daha sağlıklı bir sonuç elde edebilirsiniz, eğer proje yöneticinizin kim olduğunu bilmiyorsanız veya iletişim numarası yoksa ben bu konuda size yardımcı olabilirim. Siparişim hazır olmadı mı? Bu konuda proje yöneticinizden bilgi alırsanız daha sağlıklı olur, eğer proje yöneticinizin kim olduğunu bilmiyorsanız veya iletişim numarası yoksa ben size yardımcı olabilirim. Bana henüz dönüş sağlanmadı\\rBeklediğiniz için teşekkür ederim. Proje yöneticilerimiz yoğun bir mesai içindeler, Hemen ilgileniyorum. Teslim aldığım sipariş ile ilgili sorun yaşıyorum\\rBu konuda proje yöneticiniz ile danışırsanız daha sağlıklı bir sonuç elde edebilirsiniz, eğer proje yöneticinizin kim olduğunu bilmiyorsanız veya iletişim numarası yoksa ben size yardımcı olabilirim. Çeviri ücretlerini soracaktım? Tabi ki, tercüme edilecek dosyaları bizimle paylaşırsanız size fiyat ve süre konusunda detaylı bilgi verebilirim.'),\n",
              " Document(id='6b9fd55e-9e0a-4b0c-ac8a-ec82b0495278', metadata={'source': 'data/data.txt'}, page_content='Tercüme edilmiş belgeyi nereden apostilleyeceğim? Apostil ve tasdik şerhi için kaymakamlık veya valiliklere başvurmanız lazım. Siz aposil yapıyor musunuz? Biz belgelere kaymakamlık veya valiliklerden apostil veya tasdik şerhi alabilmesi için süreci takip edebiliriz. Merhaba iyi günler, türkçeden almancaya 7 sayfalık belge çevirtecektim ama, gönderdiğim belgelere fiyat ve süre söylemeniz mümkün mü? Tabi ki, gönderdiğiniz belgeleri hemen proje yöneticilerimize iletiyorum çok kısa bir süre içinde sizinle iletişime geçecekler. Nasıl sipariş verebilirim? Buradan veya mail üzerinden dosyalarınızı bizimle paylaşabilirsiniz, proje yöneticilerimiz dosyanızı inceleyip ve sizinle iletişime geçektir ve onayınızın ardından süreci başlatacaktır. Ayrıca ofislerimize fiziki olarak da başvurabilirsiniz veya dosyalarınız kargo/kurye iletebilirsiniz. Dosyalar proje yöneticilerimize ulaşınca sizinle iletişime geçip süreci takip edecekler. Siparişimi Nasıl teslim alabilirim? Dosyalarınız ofisten fiziki olarak teslim alabilirsiniz veya ihtiyacınıza göre taramalarını size iletebiliriz. Ayrıca Kargo/posta/kurye aracılığı ile dosyalarınızı adresinize teslim edebiliriz. Online nasıl sipariş verebilirim? Buradan veya mail üzerinden dosyalarınızı bizimle paylaşabilirsiniz, proje yöneticilerimiz dosyanızı inceleyip ve sizinle iletişime geçektir ve onayınızın ardından süreci başlatacaktır. çeviriyi iade edebilir miyim?\\n\\nSiparişiniz hizmet kapsamında olduğundan ve siparişin gerçekleştirilmesi masraflara tabi olduğundan dolayı hizmet kapsamına giren satışların iadesi ne yazık ki mümkün değildir. Hangi dillerde yeminli çeviri yapıyorsunuz? Dünyanın bir çok resmi dilinde yeminli çeviri hizmeti sunuyoruz. Siz hangi dilde tercüme hizmetine ihtiyacınız var? XX dilinde yeminli tercümanınız var mı? Tabi ki, dosyalarınızı bizimle paylaşırsanız, fiyat ve süre konusunda size detaylı bilgi verebiliriz. Çevirinizi kabul etmediler\\rBu konuda proje yöneticiniz ile danışırsanız daha sağlıklı bir sonuç elde edebilirsiniz, eğer proje yöneticinizin kim olduğunu bilmiyorsanız veya iletişim numarası yoksa ben bu konuda size yardımcı olabilirim. Siparişim hazır olmadı mı? Bu konuda proje yöneticinizden bilgi alırsanız daha sağlıklı olur, eğer proje yöneticinizin kim olduğunu bilmiyorsanız veya iletişim numarası yoksa ben size yardımcı olabilirim. Bana henüz dönüş sağlanmadı\\rBeklediğiniz için teşekkür ederim. Proje yöneticilerimiz yoğun bir mesai içindeler, Hemen ilgileniyorum. Teslim aldığım sipariş ile ilgili sorun yaşıyorum\\rBu konuda proje yöneticiniz ile danışırsanız daha sağlıklı bir sonuç elde edebilirsiniz, eğer proje yöneticinizin kim olduğunu bilmiyorsanız veya iletişim numarası yoksa ben size yardımcı olabilirim. Çeviri ücretlerini soracaktım? Tabi ki, tercüme edilecek dosyaları bizimle paylaşırsanız size fiyat ve süre konusunda detaylı bilgi verebilirim.'),\n",
              " Document(id='b3fc4332-d9ed-4a52-ad70-adacf4997327', metadata={'source': 'data/data.txt'}, page_content='Bununla birlikte emeğe saygı, birlikte çalıştığımız kurumların güvenliğini ve gizliliğini koruma, firmaların ticari sırlarını ve güven gerektiren çalışmalarını her durumda koruma altında tutma, tercüme ve tercüme sektörüyle ilişkili işlerin ülke ve dünya genelinde belirli standartlar kazanmasına katkıda bulunma, etik ve ahlaki değerlere bağlı bir şekilde ticari ilişkiler kurma ve profesyonellikten ödün vermeme esas hedeflerimiz arasında yer almaktadır. Bunların yanı sıra kişilerin özel çeviri işlerini en yüksek güvenlik ve gizlilik altında en iyi kalitede yapmak ve onları hedeflerine ulaşmasında katkıda bulunmak, Alle Yeminli Tercüme Bürosu olarak çalışmalarımızın merkezinde yer almaktadır. Vizyonumuz Kurumsal bir şirket olarak, kobiler, büyük firmalar, kamu kurum ve kuruluşları nezdinde güvenilir bir tercüme markası olarak sektörün öncü çözüm ortağı olmak ve uzman ekibimizle iş ortaklarımızın ve paydaşlarımızın hedeflerine ulaşmasında katkıda bulunan bir marka olmak. Kurumsal yapımızı daha da geliştirip marka kimliğini kalıcılaştırmak ve en uygun fiyatlarla ve kaliteli çeviri hizmetleri sunmak. · Çalışma Politikamız Alle Tercüme Bürosu için her bir çeviri siparişi, önemli bir projedir, dolayısıyla müşteri tarafından bize teslim edilen her bir belge ve sipariş büyük bir dikkat ve titizlikle belirlediğimiz standartlar ve benimsediğimiz profesyonellik çerçevesinde tercüme edilip ve ilgili makamların onayına sunulduktan sonra müşteriye teslim edilmektedir.\\n\\nGizlilik, şeffaflık, hızlı ve hatasız iş teslimi, müşteriyle kararlaştırılan teslim zamanlarına bağlılık, profesyonel ve alanında uzman kadrolarla çalışmak ve yeni teknik ve teknolojilerle iş süreçlerini yaratıcı bir çalışmaya dönüştürmek, çalışma prensiplerimizden bazılarıdır. Müşteri odaklı çalışma sistemiyle ve alanında yetkinliğini pratik tecrübelerinden ve yılların birikiminden alan kadrosuyla hızlı, güvenli ve uygun fiyatlarla hizmet sunan Alle Tercüme Bürosunun çalışma politikası aşağıda belirtilmiştir.\\n\\nHizmetlerimiz; · Tercüme Hizmetleri: Yazılı ve sözlü olmak üzere çeviri hizmeti sağlamaktayız. Hizmetlerimiz Yeminli çeviri/tercüme ve normal çeviri/tercüme olmak üzere ikiye ayrılır. o Yeminli Çeviri: Yetkili makamlar tarafından onaylanan tercümanlar tarafından yapılan çeviriye denir. Resmi makamların onayına sunulacak olan belgeler yeminli tercüman tarafından tercüme edilir. o Normal Çeviri: Resmi makamların onayına sunulmayacak website içeriği, makaleler vb. taraflar arasındaki yazışmalar ve görüşmeler vb. içerikler yeminli tercüman gerektirmeden deneyimli ve uzman tercümanlar tarafından yapılabilmektedir. o Yazılı Çeviri: Hard ve sof copy olmak üzere her hangi bir materyali bir dilden başka dile çevrilmesidir. o Sözlü Çeviri: her hangi bir iki kişi, iki grup, iki kurum, kişi ve kurum arasında farklı dillerde geçen konuşmaların çevirisidir. Sözlü çeviride yeminli ve normal çeviri olarak ikiye ayrılmaktadır. Noter, tapu ve resmi kurumlarda yapılacak olan resmi süreçlerde yeminli tercüman veya adliye tarafından onaylı bilirkişi tercüman tarafından tercüme yapılması gerekmektedir. Ancak şirketler, kurumlar ve şahıslar arasındaki toplantılar ve görüşmelerde ve resmi işlem gerektirmeyen görüşmelerde uzman ve deneyimli tercüman işlem yapabilmektedir. o Yazılı ve sözlü olmak üzere tüm alanlarda çeviri hizmeti sağlıyoruz. · Document Asist Hizmeti: Bu hizmet kapsamında belgelerin resmi kurumlar nezdinde onay süreçlerini takip ediyoruz.\\n\\nEvrakların herhangi bir kurumdan onaylanacaksa süreci takip edip, evrakları onaylı bir şekilde müşteriye teslim ediyoruz. Noter, Kaymakamlık (Apostil/Tasdik), dışişleri bakanlığı, konsolosluklar, ticaret ve sanayi odaları, milli eğitim bakanlığı ve müdürlükleri, YÖK gibi kurumlarda evrak onay süreçlerini takip ediyoruz.')]"
            ]
          },
          "metadata": {},
          "execution_count": 127
        }
      ],
      "source": [
        "query = \"Tercüme Hizmetlerinizden bahsedebilir misiniz?\"\n",
        "results = vectorstore_client.similarity_search(query)\n",
        "results"
      ]
    },
    {
      "cell_type": "code",
      "execution_count": 128,
      "metadata": {
        "id": "DZvG0KdD8e6Y"
      },
      "outputs": [],
      "source": [
        "from langchain_openai import ChatOpenAI\n",
        "from langchain.chains.retrieval_qa.base import RetrievalQA\n",
        "from langchain.prompts import PromptTemplate\n",
        "\n",
        "# Initialize the language model\n",
        "m_llm = ChatOpenAI(\n",
        "    model=\"gpt-4o\",\n",
        "    temperature=0\n",
        ")\n",
        "\n",
        "retriever = vectorstore_client.as_retriever()\n",
        "m_qa = RetrievalQA.from_chain_type(\n",
        "    llm=m_llm,\n",
        "    chain_type=\"stuff\",\n",
        "    retriever=retriever\n",
        ")"
      ]
    },
    {
      "cell_type": "code",
      "execution_count": 129,
      "metadata": {
        "id": "ez_R3o458e6Y",
        "outputId": "a407dfd9-0f6f-402e-e367-5e59065331b7",
        "colab": {
          "base_uri": "https://localhost:8080/"
        }
      },
      "outputs": [
        {
          "output_type": "stream",
          "name": "stdout",
          "text": [
            "{'query': \"\\nGiven the context of the following documents:\\n\\n\\n    \\n\\nPlease answer the user's query succinctly in no more than 100 words.\\n\\nQuery: Tercüme Hizmetlerinizden bahsedebilir misiniz?\\n\", 'result': 'Alle Tercüme Bürosu, yazılı ve sözlü çeviri hizmetleri sunmaktadır. Yeminli çeviri, yetkili makamlarca onaylı tercümanlar tarafından yapılır ve resmi belgeler için gereklidir. Normal çeviri, resmi onay gerektirmeyen içerikler için deneyimli tercümanlarca yapılır. Yazılı çeviri, materyallerin bir dilden diğerine çevrilmesidir. Sözlü çeviri, farklı dillerdeki konuşmaların çevirisidir ve yeminli veya normal olabilir. Ayrıca, Document Asist hizmetiyle belgelerin resmi kurumlar nezdinde onay süreçlerini takip ediyoruz.'}\n"
          ]
        }
      ],
      "source": [
        "# Define the prompt template\n",
        "prompt_template = \"\"\"\n",
        "Given the context of the following documents:\n",
        "{context}\n",
        "\n",
        "Please answer the user's query succinctly in no more than 100 words.\n",
        "\n",
        "Query: {query}\n",
        "\"\"\"\n",
        "\n",
        "prompt = PromptTemplate(\n",
        "    input_variables=[\"context\", \"query\"],\n",
        "    template=prompt_template\n",
        ")\n",
        "\n",
        "input_data = {\n",
        "    \"context\": \"\"\"\n",
        "\n",
        "    \"\"\",\n",
        "    \"query\":\n",
        "        \"Tercüme Hizmetlerinizden bahsedebilir misiniz?\"\n",
        "}\n",
        "\n",
        "formatted_prompt = prompt.format(**input_data)\n",
        "result = m_qa.invoke({\"query\": formatted_prompt})\n",
        "print(result)"
      ]
    },
    {
      "cell_type": "code",
      "execution_count": 130,
      "metadata": {
        "id": "5_FGyDK18e6Y",
        "outputId": "5626e400-7e4d-4c64-c07a-bb30a5b526d6",
        "colab": {
          "base_uri": "https://localhost:8080/"
        }
      },
      "outputs": [
        {
          "output_type": "stream",
          "name": "stdout",
          "text": [
            "{'query': \"\\nGiven the context of the following documents:\\n\\n\\n    \\n\\nPlease answer the user's query succinctly in no more than 100 words.\\n\\nQuery: Peki ucretleriniz ne sekildedir? Ucretleriniz hakkinda bilgi verebilir misiniz?\\n\", 'result': 'Ücretlendirmelerimiz sayfa başına değil, karakter veya kelime üzerinden hesaplanmaktadır. Tercüme hizmetlerimiz 1000 karakter veya 180 kelime üzerinden fiyatlandırılır. Dosyalarınızı bizimle paylaşırsanız, fiyat ve süre konusunda detaylı bilgi sağlayabiliriz. Noter onaylı işlemler için noter ücreti ayrıca ödenir.'}\n"
          ]
        }
      ],
      "source": [
        "input_data = {\n",
        "    \"context\": \"\"\"\n",
        "\n",
        "    \"\"\",\n",
        "    \"query\":\n",
        "        \"Peki ucretleriniz ne sekildedir? Ucretleriniz hakkinda bilgi verebilir misiniz?\"\n",
        "}\n",
        "\n",
        "formatted_prompt = prompt.format(**input_data)\n",
        "result = m_qa.invoke({\"query\": formatted_prompt})\n",
        "print(result)"
      ]
    },
    {
      "cell_type": "code",
      "execution_count": 131,
      "metadata": {
        "id": "p-XMFkik8e6Y",
        "colab": {
          "base_uri": "https://localhost:8080/"
        },
        "outputId": "a73d30a0-a4b1-4b5d-d70c-becc45ebf5f2"
      },
      "outputs": [
        {
          "output_type": "stream",
          "name": "stdout",
          "text": [
            "{'query': \"\\nGiven the context of the following documents:\\n\\n\\n    \\n\\nPlease answer the user's query succinctly in no more than 100 words.\\n\\nQuery: Sirketinizin kac subesi var\\n\", 'result': 'Şirketin iki şubesi bulunmaktadır: Ankara ve İstanbul.'}\n"
          ]
        }
      ],
      "source": [
        "input_data = {\n",
        "    \"context\": \"\"\"\n",
        "\n",
        "    \"\"\",\n",
        "    \"query\":\n",
        "        \"Sirketinizin kac subesi var\"\n",
        "}\n",
        "\n",
        "formatted_prompt = prompt.format(**input_data)\n",
        "result = m_qa.invoke({\"query\": formatted_prompt})\n",
        "print(result)"
      ]
    },
    {
      "cell_type": "code",
      "source": [
        "import os\n",
        "\n",
        "# GitHub kullanıcı bilgilerini girin\n",
        "username = \"chatbotalle\"  # GitHub kullanıcı adınız\n",
        "email = \"chatbotalle@gmail.com\"  # GitHub e-posta adresiniz\n",
        "\n",
        "# Git yapılandırması\n",
        "os.system(f\"git config --global user.name '{username}'\")\n",
        "os.system(f\"git config --global user.email '{email}'\")\n"
      ],
      "metadata": {
        "colab": {
          "base_uri": "https://localhost:8080/"
        },
        "id": "pQ_rgKRcKOdh",
        "outputId": "5b297f10-d80d-4a22-d8db-534c99f535bc"
      },
      "execution_count": 132,
      "outputs": [
        {
          "output_type": "execute_result",
          "data": {
            "text/plain": [
              "0"
            ]
          },
          "metadata": {},
          "execution_count": 132
        }
      ]
    },
    {
      "cell_type": "code",
      "source": [
        "!git clone https://github.com/chatbotalle/main.git\n"
      ],
      "metadata": {
        "colab": {
          "base_uri": "https://localhost:8080/"
        },
        "id": "vkVXi7PyKUQW",
        "outputId": "8afd7af9-40f3-4463-9a1c-7bba53259e32"
      },
      "execution_count": 134,
      "outputs": [
        {
          "output_type": "stream",
          "name": "stdout",
          "text": [
            "Cloning into 'main'...\n",
            "fatal: could not read Username for 'https://github.com': No such device or address\n"
          ]
        }
      ]
    }
  ],
  "metadata": {
    "kernelspec": {
      "display_name": "main",
      "language": "python",
      "name": "python3"
    },
    "language_info": {
      "codemirror_mode": {
        "name": "ipython",
        "version": 3
      },
      "file_extension": ".py",
      "mimetype": "text/x-python",
      "name": "python",
      "nbconvert_exporter": "python",
      "pygments_lexer": "ipython3",
      "version": "3.9.18"
    },
    "colab": {
      "provenance": []
    }
  },
  "nbformat": 4,
  "nbformat_minor": 0
}
